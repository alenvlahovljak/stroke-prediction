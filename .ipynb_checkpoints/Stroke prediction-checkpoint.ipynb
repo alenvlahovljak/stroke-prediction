{
 "cells": [
  {
   "cell_type": "markdown",
   "id": "0b698364",
   "metadata": {},
   "source": [
    "<h1>1. Prepare environment</h1>"
   ]
  },
  {
   "cell_type": "markdown",
   "id": "25957bd1",
   "metadata": {},
   "source": [
    " - Import necessary packages"
   ]
  },
  {
   "cell_type": "code",
   "execution_count": 535,
   "id": "39fc62ed",
   "metadata": {},
   "outputs": [],
   "source": [
    "import numpy as np\n",
    "import pandas as pd\n",
    "import seaborn as sns\n",
    "import matplotlib.pyplot as plt\n",
    "\n",
    "from sklearn import metrics\n",
    "from sklearn.preprocessing import LabelEncoder\n",
    "from sklearn.preprocessing import MinMaxScaler\n",
    "from sklearn.model_selection import train_test_split\n",
    "from sklearn.linear_model import LogisticRegression\n",
    "from sklearn.ensemble import RandomForestClassifier\n",
    "\n",
    "\n",
    "from imblearn.over_sampling import SMOTE"
   ]
  },
  {
   "cell_type": "markdown",
   "id": "afe8b220",
   "metadata": {},
   "source": [
    " - Import .csv file"
   ]
  },
  {
   "cell_type": "code",
   "execution_count": 536,
   "id": "1d7c5567",
   "metadata": {},
   "outputs": [],
   "source": [
    "stroke_df = pd.read_csv(\"./healthcare-dataset-stroke-data.csv\")"
   ]
  },
  {
   "cell_type": "markdown",
   "id": "296d6dae",
   "metadata": {},
   "source": [
    " - Read first five records"
   ]
  },
  {
   "cell_type": "code",
   "execution_count": 472,
   "id": "e1e06081",
   "metadata": {},
   "outputs": [
    {
     "data": {
      "text/html": [
       "<div>\n",
       "<style scoped>\n",
       "    .dataframe tbody tr th:only-of-type {\n",
       "        vertical-align: middle;\n",
       "    }\n",
       "\n",
       "    .dataframe tbody tr th {\n",
       "        vertical-align: top;\n",
       "    }\n",
       "\n",
       "    .dataframe thead th {\n",
       "        text-align: right;\n",
       "    }\n",
       "</style>\n",
       "<table border=\"1\" class=\"dataframe\">\n",
       "  <thead>\n",
       "    <tr style=\"text-align: right;\">\n",
       "      <th></th>\n",
       "      <th>id</th>\n",
       "      <th>gender</th>\n",
       "      <th>age</th>\n",
       "      <th>hypertension</th>\n",
       "      <th>heart_disease</th>\n",
       "      <th>ever_married</th>\n",
       "      <th>work_type</th>\n",
       "      <th>Residence_type</th>\n",
       "      <th>avg_glucose_level</th>\n",
       "      <th>bmi</th>\n",
       "      <th>smoking_status</th>\n",
       "      <th>stroke</th>\n",
       "    </tr>\n",
       "  </thead>\n",
       "  <tbody>\n",
       "    <tr>\n",
       "      <th>0</th>\n",
       "      <td>9046</td>\n",
       "      <td>Male</td>\n",
       "      <td>67.0</td>\n",
       "      <td>0</td>\n",
       "      <td>1</td>\n",
       "      <td>Yes</td>\n",
       "      <td>Private</td>\n",
       "      <td>Urban</td>\n",
       "      <td>228.69</td>\n",
       "      <td>36.6</td>\n",
       "      <td>formerly smoked</td>\n",
       "      <td>1</td>\n",
       "    </tr>\n",
       "    <tr>\n",
       "      <th>1</th>\n",
       "      <td>51676</td>\n",
       "      <td>Female</td>\n",
       "      <td>61.0</td>\n",
       "      <td>0</td>\n",
       "      <td>0</td>\n",
       "      <td>Yes</td>\n",
       "      <td>Self-employed</td>\n",
       "      <td>Rural</td>\n",
       "      <td>202.21</td>\n",
       "      <td>NaN</td>\n",
       "      <td>never smoked</td>\n",
       "      <td>1</td>\n",
       "    </tr>\n",
       "    <tr>\n",
       "      <th>2</th>\n",
       "      <td>31112</td>\n",
       "      <td>Male</td>\n",
       "      <td>80.0</td>\n",
       "      <td>0</td>\n",
       "      <td>1</td>\n",
       "      <td>Yes</td>\n",
       "      <td>Private</td>\n",
       "      <td>Rural</td>\n",
       "      <td>105.92</td>\n",
       "      <td>32.5</td>\n",
       "      <td>never smoked</td>\n",
       "      <td>1</td>\n",
       "    </tr>\n",
       "    <tr>\n",
       "      <th>3</th>\n",
       "      <td>60182</td>\n",
       "      <td>Female</td>\n",
       "      <td>49.0</td>\n",
       "      <td>0</td>\n",
       "      <td>0</td>\n",
       "      <td>Yes</td>\n",
       "      <td>Private</td>\n",
       "      <td>Urban</td>\n",
       "      <td>171.23</td>\n",
       "      <td>34.4</td>\n",
       "      <td>smokes</td>\n",
       "      <td>1</td>\n",
       "    </tr>\n",
       "    <tr>\n",
       "      <th>4</th>\n",
       "      <td>1665</td>\n",
       "      <td>Female</td>\n",
       "      <td>79.0</td>\n",
       "      <td>1</td>\n",
       "      <td>0</td>\n",
       "      <td>Yes</td>\n",
       "      <td>Self-employed</td>\n",
       "      <td>Rural</td>\n",
       "      <td>174.12</td>\n",
       "      <td>24.0</td>\n",
       "      <td>never smoked</td>\n",
       "      <td>1</td>\n",
       "    </tr>\n",
       "  </tbody>\n",
       "</table>\n",
       "</div>"
      ],
      "text/plain": [
       "      id  gender   age  hypertension  heart_disease ever_married  \\\n",
       "0   9046    Male  67.0             0              1          Yes   \n",
       "1  51676  Female  61.0             0              0          Yes   \n",
       "2  31112    Male  80.0             0              1          Yes   \n",
       "3  60182  Female  49.0             0              0          Yes   \n",
       "4   1665  Female  79.0             1              0          Yes   \n",
       "\n",
       "       work_type Residence_type  avg_glucose_level   bmi   smoking_status  \\\n",
       "0        Private          Urban             228.69  36.6  formerly smoked   \n",
       "1  Self-employed          Rural             202.21   NaN     never smoked   \n",
       "2        Private          Rural             105.92  32.5     never smoked   \n",
       "3        Private          Urban             171.23  34.4           smokes   \n",
       "4  Self-employed          Rural             174.12  24.0     never smoked   \n",
       "\n",
       "   stroke  \n",
       "0       1  \n",
       "1       1  \n",
       "2       1  \n",
       "3       1  \n",
       "4       1  "
      ]
     },
     "execution_count": 472,
     "metadata": {},
     "output_type": "execute_result"
    }
   ],
   "source": [
    "stroke_df.head()"
   ]
  },
  {
   "cell_type": "markdown",
   "id": "11773ac4",
   "metadata": {},
   "source": [
    "- Describe main characteristics"
   ]
  },
  {
   "cell_type": "code",
   "execution_count": 473,
   "id": "8226d4b8",
   "metadata": {},
   "outputs": [
    {
     "data": {
      "text/html": [
       "<div>\n",
       "<style scoped>\n",
       "    .dataframe tbody tr th:only-of-type {\n",
       "        vertical-align: middle;\n",
       "    }\n",
       "\n",
       "    .dataframe tbody tr th {\n",
       "        vertical-align: top;\n",
       "    }\n",
       "\n",
       "    .dataframe thead th {\n",
       "        text-align: right;\n",
       "    }\n",
       "</style>\n",
       "<table border=\"1\" class=\"dataframe\">\n",
       "  <thead>\n",
       "    <tr style=\"text-align: right;\">\n",
       "      <th></th>\n",
       "      <th>id</th>\n",
       "      <th>age</th>\n",
       "      <th>hypertension</th>\n",
       "      <th>heart_disease</th>\n",
       "      <th>avg_glucose_level</th>\n",
       "      <th>bmi</th>\n",
       "      <th>stroke</th>\n",
       "    </tr>\n",
       "  </thead>\n",
       "  <tbody>\n",
       "    <tr>\n",
       "      <th>count</th>\n",
       "      <td>5110.000000</td>\n",
       "      <td>5110.000000</td>\n",
       "      <td>5110.000000</td>\n",
       "      <td>5110.000000</td>\n",
       "      <td>5110.000000</td>\n",
       "      <td>4909.000000</td>\n",
       "      <td>5110.000000</td>\n",
       "    </tr>\n",
       "    <tr>\n",
       "      <th>mean</th>\n",
       "      <td>36517.829354</td>\n",
       "      <td>43.226614</td>\n",
       "      <td>0.097456</td>\n",
       "      <td>0.054012</td>\n",
       "      <td>106.147677</td>\n",
       "      <td>28.893237</td>\n",
       "      <td>0.048728</td>\n",
       "    </tr>\n",
       "    <tr>\n",
       "      <th>std</th>\n",
       "      <td>21161.721625</td>\n",
       "      <td>22.612647</td>\n",
       "      <td>0.296607</td>\n",
       "      <td>0.226063</td>\n",
       "      <td>45.283560</td>\n",
       "      <td>7.854067</td>\n",
       "      <td>0.215320</td>\n",
       "    </tr>\n",
       "    <tr>\n",
       "      <th>min</th>\n",
       "      <td>67.000000</td>\n",
       "      <td>0.080000</td>\n",
       "      <td>0.000000</td>\n",
       "      <td>0.000000</td>\n",
       "      <td>55.120000</td>\n",
       "      <td>10.300000</td>\n",
       "      <td>0.000000</td>\n",
       "    </tr>\n",
       "    <tr>\n",
       "      <th>25%</th>\n",
       "      <td>17741.250000</td>\n",
       "      <td>25.000000</td>\n",
       "      <td>0.000000</td>\n",
       "      <td>0.000000</td>\n",
       "      <td>77.245000</td>\n",
       "      <td>23.500000</td>\n",
       "      <td>0.000000</td>\n",
       "    </tr>\n",
       "    <tr>\n",
       "      <th>50%</th>\n",
       "      <td>36932.000000</td>\n",
       "      <td>45.000000</td>\n",
       "      <td>0.000000</td>\n",
       "      <td>0.000000</td>\n",
       "      <td>91.885000</td>\n",
       "      <td>28.100000</td>\n",
       "      <td>0.000000</td>\n",
       "    </tr>\n",
       "    <tr>\n",
       "      <th>75%</th>\n",
       "      <td>54682.000000</td>\n",
       "      <td>61.000000</td>\n",
       "      <td>0.000000</td>\n",
       "      <td>0.000000</td>\n",
       "      <td>114.090000</td>\n",
       "      <td>33.100000</td>\n",
       "      <td>0.000000</td>\n",
       "    </tr>\n",
       "    <tr>\n",
       "      <th>max</th>\n",
       "      <td>72940.000000</td>\n",
       "      <td>82.000000</td>\n",
       "      <td>1.000000</td>\n",
       "      <td>1.000000</td>\n",
       "      <td>271.740000</td>\n",
       "      <td>97.600000</td>\n",
       "      <td>1.000000</td>\n",
       "    </tr>\n",
       "  </tbody>\n",
       "</table>\n",
       "</div>"
      ],
      "text/plain": [
       "                 id          age  hypertension  heart_disease  \\\n",
       "count   5110.000000  5110.000000   5110.000000    5110.000000   \n",
       "mean   36517.829354    43.226614      0.097456       0.054012   \n",
       "std    21161.721625    22.612647      0.296607       0.226063   \n",
       "min       67.000000     0.080000      0.000000       0.000000   \n",
       "25%    17741.250000    25.000000      0.000000       0.000000   \n",
       "50%    36932.000000    45.000000      0.000000       0.000000   \n",
       "75%    54682.000000    61.000000      0.000000       0.000000   \n",
       "max    72940.000000    82.000000      1.000000       1.000000   \n",
       "\n",
       "       avg_glucose_level          bmi       stroke  \n",
       "count        5110.000000  4909.000000  5110.000000  \n",
       "mean          106.147677    28.893237     0.048728  \n",
       "std            45.283560     7.854067     0.215320  \n",
       "min            55.120000    10.300000     0.000000  \n",
       "25%            77.245000    23.500000     0.000000  \n",
       "50%            91.885000    28.100000     0.000000  \n",
       "75%           114.090000    33.100000     0.000000  \n",
       "max           271.740000    97.600000     1.000000  "
      ]
     },
     "execution_count": 473,
     "metadata": {},
     "output_type": "execute_result"
    }
   ],
   "source": [
    "stroke_df.describe()"
   ]
  },
  {
   "cell_type": "markdown",
   "id": "55a49882",
   "metadata": {},
   "source": [
    "- Number of records"
   ]
  },
  {
   "cell_type": "code",
   "execution_count": 474,
   "id": "10cb5202",
   "metadata": {},
   "outputs": [
    {
     "data": {
      "text/plain": [
       "id                   5110\n",
       "gender               5110\n",
       "age                  5110\n",
       "hypertension         5110\n",
       "heart_disease        5110\n",
       "ever_married         5110\n",
       "work_type            5110\n",
       "Residence_type       5110\n",
       "avg_glucose_level    5110\n",
       "bmi                  4909\n",
       "smoking_status       5110\n",
       "stroke               5110\n",
       "dtype: int64"
      ]
     },
     "execution_count": 474,
     "metadata": {},
     "output_type": "execute_result"
    }
   ],
   "source": [
    "stroke_df.count()"
   ]
  },
  {
   "cell_type": "markdown",
   "id": "48a0089c",
   "metadata": {},
   "source": [
    "- Print feature list"
   ]
  },
  {
   "cell_type": "code",
   "execution_count": 475,
   "id": "0e80fbcc",
   "metadata": {},
   "outputs": [
    {
     "data": {
      "text/plain": [
       "Index(['id', 'gender', 'age', 'hypertension', 'heart_disease', 'ever_married',\n",
       "       'work_type', 'Residence_type', 'avg_glucose_level', 'bmi',\n",
       "       'smoking_status', 'stroke'],\n",
       "      dtype='object')"
      ]
     },
     "execution_count": 475,
     "metadata": {},
     "output_type": "execute_result"
    }
   ],
   "source": [
    "feat_cols = stroke_df.columns\n",
    "feat_cols"
   ]
  },
  {
   "cell_type": "markdown",
   "id": "84f76d55",
   "metadata": {},
   "source": [
    "<h1>2. Data cleansing - PART 1</h1>"
   ]
  },
  {
   "cell_type": "markdown",
   "id": "75f6b777",
   "metadata": {},
   "source": [
    "- Check the null existance"
   ]
  },
  {
   "cell_type": "code",
   "execution_count": 476,
   "id": "e92f4b0d",
   "metadata": {},
   "outputs": [
    {
     "data": {
      "text/plain": [
       "id                     0\n",
       "gender                 0\n",
       "age                    0\n",
       "hypertension           0\n",
       "heart_disease          0\n",
       "ever_married           0\n",
       "work_type              0\n",
       "Residence_type         0\n",
       "avg_glucose_level      0\n",
       "bmi                  201\n",
       "smoking_status         0\n",
       "stroke                 0\n",
       "dtype: int64"
      ]
     },
     "execution_count": 476,
     "metadata": {},
     "output_type": "execute_result"
    }
   ],
   "source": [
    "stroke_df.isnull().sum()"
   ]
  },
  {
   "cell_type": "markdown",
   "id": "982efcca",
   "metadata": {},
   "source": [
    "Since we have <code>null</code> values, we have to take care of them either by dropping records or filling them with median values. We have 5110 records, so losing the data is not desirable, and that's the reason I'll take the second approach. I'll fill the <code>null</code> values with the <strong>median value</strong>."
   ]
  },
  {
   "cell_type": "code",
   "execution_count": 537,
   "id": "589aa3f3",
   "metadata": {},
   "outputs": [
    {
     "name": "stdout",
     "output_type": "stream",
     "text": [
      "Median BMI value: 28.1\n"
     ]
    }
   ],
   "source": [
    "median_bmi = stroke_df['bmi'].median()\n",
    "print (\"Median BMI value:\", median_bmi)"
   ]
  },
  {
   "cell_type": "markdown",
   "id": "9c9fe460",
   "metadata": {},
   "source": [
    "The next step is to apply the median value to <code>null</code> values."
   ]
  },
  {
   "cell_type": "code",
   "execution_count": 538,
   "id": "25f174ba",
   "metadata": {},
   "outputs": [
    {
     "data": {
      "text/plain": [
       "id                   0\n",
       "gender               0\n",
       "age                  0\n",
       "hypertension         0\n",
       "heart_disease        0\n",
       "ever_married         0\n",
       "work_type            0\n",
       "Residence_type       0\n",
       "avg_glucose_level    0\n",
       "bmi                  0\n",
       "smoking_status       0\n",
       "stroke               0\n",
       "dtype: int64"
      ]
     },
     "execution_count": 538,
     "metadata": {},
     "output_type": "execute_result"
    }
   ],
   "source": [
    "stroke_df['bmi'] = stroke_df['bmi'].fillna(median_bmi)\n",
    "\n",
    "stroke_df.isnull().sum()"
   ]
  },
  {
   "cell_type": "markdown",
   "id": "8f00bc49",
   "metadata": {},
   "source": [
    "<h1>3. Explatory Data Analysis - PART 1</h1>"
   ]
  },
  {
   "cell_type": "markdown",
   "id": "e372b7ad",
   "metadata": {},
   "source": [
    "- Correlation heatmap"
   ]
  },
  {
   "cell_type": "code",
   "execution_count": 479,
   "id": "d160ec95",
   "metadata": {},
   "outputs": [
    {
     "data": {
      "text/plain": [
       "<AxesSubplot:>"
      ]
     },
     "execution_count": 479,
     "metadata": {},
     "output_type": "execute_result"
    },
    {
     "data": {
      "image/png": "[encoded data removed]",
      "text/plain": [
       "<Figure size 432x288 with 2 Axes>"
      ]
     },
     "metadata": {
      "needs_background": "light"
     },
     "output_type": "display_data"
    }
   ],
   "source": [
    "sns.heatmap(stroke_df.corr())"
   ]
  },
  {
   "cell_type": "markdown",
   "id": "081a3208",
   "metadata": {},
   "source": [
    "- The plot chart of people who had a stroke in population"
   ]
  },
  {
   "cell_type": "code",
   "execution_count": 88,
   "id": "b820c011",
   "metadata": {},
   "outputs": [
    {
     "data": {
      "text/plain": [
       "<AxesSubplot:xlabel='stroke', ylabel='count'>"
      ]
     },
     "execution_count": 88,
     "metadata": {},
     "output_type": "execute_result"
    },
    {
     "data": {
      "image/png": "[encoded data removed]",
      "text/plain": [
       "<Figure size 432x288 with 1 Axes>"
      ]
     },
     "metadata": {
      "needs_background": "light"
     },
     "output_type": "display_data"
    }
   ],
   "source": [
    "sns.countplot(data = stroke_df, x = 'stroke')"
   ]
  },
  {
   "cell_type": "code",
   "execution_count": 412,
   "id": "6fc80d07",
   "metadata": {},
   "outputs": [
    {
     "data": {
      "text/plain": [
       "(array([4861.,    0.,    0.,    0.,    0.,    0.,    0.,    0.,    0.,\n",
       "         249.]),\n",
       " array([0. , 0.1, 0.2, 0.3, 0.4, 0.5, 0.6, 0.7, 0.8, 0.9, 1. ]),\n",
       " <BarContainer object of 10 artists>)"
      ]
     },
     "execution_count": 412,
     "metadata": {},
     "output_type": "execute_result"
    },
    {
     "data": {
      "image/png": "[encoded data removed]",
      "text/plain": [
       "<Figure size 432x288 with 1 Axes>"
      ]
     },
     "metadata": {
      "needs_background": "light"
     },
     "output_type": "display_data"
    }
   ],
   "source": [
    "plt.hist(stroke_df['stroke'])"
   ]
  },
  {
   "cell_type": "markdown",
   "id": "e0020c46",
   "metadata": {},
   "source": [
    "- The plot chart of people who had a heart disease in population"
   ]
  },
  {
   "cell_type": "code",
   "execution_count": 49,
   "id": "410fd8cc",
   "metadata": {},
   "outputs": [
    {
     "data": {
      "text/plain": [
       "<AxesSubplot:xlabel='heart_disease', ylabel='count'>"
      ]
     },
     "execution_count": 49,
     "metadata": {},
     "output_type": "execute_result"
    },
    {
     "data": {
      "image/png": "[encoded data removed]",
      "text/plain": [
       "<Figure size 432x288 with 1 Axes>"
      ]
     },
     "metadata": {
      "needs_background": "light"
     },
     "output_type": "display_data"
    }
   ],
   "source": [
    "sns.countplot(data = stroke_df, x = 'heart_disease')"
   ]
  },
  {
   "cell_type": "code",
   "execution_count": 413,
   "id": "c8e6f927",
   "metadata": {},
   "outputs": [
    {
     "data": {
      "text/plain": [
       "(array([4834.,    0.,    0.,    0.,    0.,    0.,    0.,    0.,    0.,\n",
       "         276.]),\n",
       " array([0. , 0.1, 0.2, 0.3, 0.4, 0.5, 0.6, 0.7, 0.8, 0.9, 1. ]),\n",
       " <BarContainer object of 10 artists>)"
      ]
     },
     "execution_count": 413,
     "metadata": {},
     "output_type": "execute_result"
    },
    {
     "data": {
      "image/png": "[encoded data removed]",
      "text/plain": [
       "<Figure size 432x288 with 1 Axes>"
      ]
     },
     "metadata": {
      "needs_background": "light"
     },
     "output_type": "display_data"
    }
   ],
   "source": [
    "plt.hist(stroke_df['heart_disease'])"
   ]
  },
  {
   "cell_type": "markdown",
   "id": "adc6597b",
   "metadata": {},
   "source": [
    "- The plot chart of people who had a hypertension in population"
   ]
  },
  {
   "cell_type": "code",
   "execution_count": 274,
   "id": "799477c5",
   "metadata": {},
   "outputs": [
    {
     "data": {
      "text/plain": [
       "<AxesSubplot:xlabel='hypertension', ylabel='count'>"
      ]
     },
     "execution_count": 274,
     "metadata": {},
     "output_type": "execute_result"
    },
    {
     "data": {
      "image/png": "[encoded data removed]",
      "text/plain": [
       "<Figure size 432x288 with 1 Axes>"
      ]
     },
     "metadata": {
      "needs_background": "light"
     },
     "output_type": "display_data"
    }
   ],
   "source": [
    "sns.countplot(data = stroke_df, x = 'hypertension')"
   ]
  },
  {
   "cell_type": "markdown",
   "id": "c550c97e",
   "metadata": {},
   "source": [
    "- The plot chart of people and their average glucose level in blood"
   ]
  },
  {
   "cell_type": "code",
   "execution_count": 275,
   "id": "a3973d10",
   "metadata": {},
   "outputs": [
    {
     "data": {
      "image/png": "[encoded data removed]",
      "text/plain": [
       "<Figure size 5760x504 with 1 Axes>"
      ]
     },
     "metadata": {
      "needs_background": "light"
     },
     "output_type": "display_data"
    }
   ],
   "source": [
    "plt.figure(figsize=(80,7))\n",
    "plt.xticks(rotation = 90)\n",
    "sns.countplot(data = stroke_df, x = 'avg_glucose_level', order = np.arange(50, 280, 0.5))\n",
    "plt.show()"
   ]
  },
  {
   "cell_type": "markdown",
   "id": "2b58c4ed",
   "metadata": {},
   "source": [
    "- Distribution of avarege gluocose level in blood"
   ]
  },
  {
   "cell_type": "code",
   "execution_count": 276,
   "id": "1e3a6fd5",
   "metadata": {},
   "outputs": [
    {
     "data": {
      "text/plain": [
       "<AxesSubplot:xlabel='avg_glucose_level'>"
      ]
     },
     "execution_count": 276,
     "metadata": {},
     "output_type": "execute_result"
    },
    {
     "data": {
      "image/png": "[encoded data removed]",
      "text/plain": [
       "<Figure size 432x288 with 1 Axes>"
      ]
     },
     "metadata": {
      "needs_background": "light"
     },
     "output_type": "display_data"
    }
   ],
   "source": [
    "sns.boxplot(data = stroke_df, x = 'avg_glucose_level') "
   ]
  },
  {
   "cell_type": "markdown",
   "id": "e515cc5b",
   "metadata": {},
   "source": [
    "- The plot chart of people and their bmi level"
   ]
  },
  {
   "cell_type": "code",
   "execution_count": 277,
   "id": "6180f418",
   "metadata": {},
   "outputs": [
    {
     "data": {
      "image/png": "[encoded data removed]",
      "text/plain": [
       "<Figure size 5040x504 with 1 Axes>"
      ]
     },
     "metadata": {
      "needs_background": "light"
     },
     "output_type": "display_data"
    }
   ],
   "source": [
    "plt.figure(figsize=(70,7))\n",
    "plt.xticks(rotation = 90)\n",
    "sns.countplot(data = stroke_df, x = 'bmi', order = np.arange(9, 98, 0.5))\n",
    "plt.show()"
   ]
  },
  {
   "cell_type": "markdown",
   "id": "aa1a948a",
   "metadata": {},
   "source": [
    "- Distribution of the BMI witin a population"
   ]
  },
  {
   "cell_type": "code",
   "execution_count": 278,
   "id": "92598d17",
   "metadata": {},
   "outputs": [
    {
     "data": {
      "text/plain": [
       "<AxesSubplot:xlabel='bmi'>"
      ]
     },
     "execution_count": 278,
     "metadata": {},
     "output_type": "execute_result"
    },
    {
     "data": {
      "image/png": "[encoded data removed]",
      "text/plain": [
       "<Figure size 432x288 with 1 Axes>"
      ]
     },
     "metadata": {
      "needs_background": "light"
     },
     "output_type": "display_data"
    }
   ],
   "source": [
    "sns.boxplot(data = stroke_df, x = 'bmi') "
   ]
  },
  {
   "cell_type": "markdown",
   "id": "55953076",
   "metadata": {},
   "source": [
    "<strong style='color:red'>Here we can see outliers for <code>bmi</code> value grather than 45!</strong>"
   ]
  },
  {
   "cell_type": "markdown",
   "id": "e0df3acd",
   "metadata": {},
   "source": [
    "- The plot chart of people and their smoking status"
   ]
  },
  {
   "cell_type": "code",
   "execution_count": 279,
   "id": "7b2ada90",
   "metadata": {},
   "outputs": [
    {
     "data": {
      "text/plain": [
       "<AxesSubplot:xlabel='smoking_status', ylabel='count'>"
      ]
     },
     "execution_count": 279,
     "metadata": {},
     "output_type": "execute_result"
    },
    {
     "data": {
      "image/png": "[encoded data removed]",
      "text/plain": [
       "<Figure size 432x288 with 1 Axes>"
      ]
     },
     "metadata": {
      "needs_background": "light"
     },
     "output_type": "display_data"
    }
   ],
   "source": [
    "sns.countplot(data = stroke_df, x = 'smoking_status')"
   ]
  },
  {
   "cell_type": "markdown",
   "id": "0d827608",
   "metadata": {},
   "source": [
    "- The plot chart of people and their age"
   ]
  },
  {
   "cell_type": "code",
   "execution_count": 284,
   "id": "ba141576",
   "metadata": {},
   "outputs": [
    {
     "data": {
      "text/plain": [
       "[Text(0.5, 0, 'age (8 months - 82 year)')]"
      ]
     },
     "execution_count": 284,
     "metadata": {},
     "output_type": "execute_result"
    },
    {
     "data": {
      "image/png": "[encoded data removed]",
      "text/plain": [
       "<Figure size 432x288 with 1 Axes>"
      ]
     },
     "metadata": {
      "needs_background": "light"
     },
     "output_type": "display_data"
    }
   ],
   "source": [
    "sns.countplot(data = stroke_df, x = 'age', order = np.arange(1, 82, 3)).set(xlabel='age (8 months - 82 year)')"
   ]
  },
  {
   "cell_type": "markdown",
   "id": "ffc22ac3",
   "metadata": {},
   "source": [
    "- Distribution of age within a population"
   ]
  },
  {
   "cell_type": "code",
   "execution_count": 281,
   "id": "2efbc16f",
   "metadata": {},
   "outputs": [
    {
     "data": {
      "text/plain": [
       "<AxesSubplot:xlabel='age'>"
      ]
     },
     "execution_count": 281,
     "metadata": {},
     "output_type": "execute_result"
    },
    {
     "data": {
      "image/png": "[encoded data removed]",
      "text/plain": [
       "<Figure size 432x288 with 1 Axes>"
      ]
     },
     "metadata": {
      "needs_background": "light"
     },
     "output_type": "display_data"
    }
   ],
   "source": [
    "sns.boxplot(data = stroke_df, x = 'age') "
   ]
  },
  {
   "cell_type": "markdown",
   "id": "0f9e4c25",
   "metadata": {},
   "source": [
    "- The plot of the distribution of gender in a population"
   ]
  },
  {
   "cell_type": "code",
   "execution_count": 235,
   "id": "a860f1f4",
   "metadata": {},
   "outputs": [
    {
     "data": {
      "text/plain": [
       "<AxesSubplot:xlabel='gender', ylabel='count'>"
      ]
     },
     "execution_count": 235,
     "metadata": {},
     "output_type": "execute_result"
    },
    {
     "data": {
      "image/png": "[encoded data removed]",
      "text/plain": [
       "<Figure size 432x288 with 1 Axes>"
      ]
     },
     "metadata": {
      "needs_background": "light"
     },
     "output_type": "display_data"
    }
   ],
   "source": [
    "sns.countplot(data = stroke_df, x = 'gender')"
   ]
  },
  {
   "cell_type": "markdown",
   "id": "9b682be5",
   "metadata": {},
   "source": [
    "<h1>2. Data cleansing - PART 2</h1>"
   ]
  },
  {
   "cell_type": "markdown",
   "id": "70e1d798",
   "metadata": {},
   "source": [
    "- Hanlde <code>bmi</code> outliers (as we can from the previous count plot, outliers occur for BMI <strong>greater than 45</strong>)"
   ]
  },
  {
   "cell_type": "code",
   "execution_count": 539,
   "id": "de0bf63e",
   "metadata": {},
   "outputs": [
    {
     "name": "stdout",
     "output_type": "stream",
     "text": [
      "155 entries having BMi value greater than 45!\n"
     ]
    }
   ],
   "source": [
    "bmi_outliers = stroke_df.loc[stroke_df['bmi'] > 45]\n",
    "\n",
    "print(bmi_outliers['bmi'].count(), \"entries having BMi value greater than 45!\")"
   ]
  },
  {
   "cell_type": "code",
   "execution_count": 540,
   "id": "17711ceb",
   "metadata": {},
   "outputs": [
    {
     "name": "stdout",
     "output_type": "stream",
     "text": [
      "0 entries having BMi value greater than 45!\n"
     ]
    }
   ],
   "source": [
    "stroke_df[\"bmi\"] = stroke_df[\"bmi\"].apply(lambda x: 45 if x > 45 else x)\n",
    "stroke_df[\"bmi\"] = stroke_df[\"bmi\"].fillna(median_bmi)\n",
    "\n",
    "bmi_outliers = stroke_df.loc[stroke_df['bmi'] > 45]\n",
    "print(bmi_outliers['bmi'].count(), \"entries having BMi value greater than 45!\")"
   ]
  },
  {
   "cell_type": "markdown",
   "id": "2f295db1",
   "metadata": {},
   "source": [
    "- Perform one-hot encoding on categorical features (<code>gender</code>, <code>ever_married</code>, <code>Residence_type</code>)"
   ]
  },
  {
   "cell_type": "code",
   "execution_count": 541,
   "id": "2186c4a7",
   "metadata": {},
   "outputs": [
    {
     "data": {
      "text/html": [
       "<div>\n",
       "<style scoped>\n",
       "    .dataframe tbody tr th:only-of-type {\n",
       "        vertical-align: middle;\n",
       "    }\n",
       "\n",
       "    .dataframe tbody tr th {\n",
       "        vertical-align: top;\n",
       "    }\n",
       "\n",
       "    .dataframe thead th {\n",
       "        text-align: right;\n",
       "    }\n",
       "</style>\n",
       "<table border=\"1\" class=\"dataframe\">\n",
       "  <thead>\n",
       "    <tr style=\"text-align: right;\">\n",
       "      <th></th>\n",
       "      <th>id</th>\n",
       "      <th>gender</th>\n",
       "      <th>age</th>\n",
       "      <th>hypertension</th>\n",
       "      <th>heart_disease</th>\n",
       "      <th>ever_married</th>\n",
       "      <th>work_type</th>\n",
       "      <th>Residence_type</th>\n",
       "      <th>avg_glucose_level</th>\n",
       "      <th>bmi</th>\n",
       "      <th>smoking_status</th>\n",
       "      <th>stroke</th>\n",
       "    </tr>\n",
       "  </thead>\n",
       "  <tbody>\n",
       "    <tr>\n",
       "      <th>0</th>\n",
       "      <td>9046</td>\n",
       "      <td>1</td>\n",
       "      <td>67.0</td>\n",
       "      <td>0</td>\n",
       "      <td>1</td>\n",
       "      <td>1</td>\n",
       "      <td>2</td>\n",
       "      <td>1</td>\n",
       "      <td>228.69</td>\n",
       "      <td>36.6</td>\n",
       "      <td>1</td>\n",
       "      <td>1</td>\n",
       "    </tr>\n",
       "    <tr>\n",
       "      <th>1</th>\n",
       "      <td>51676</td>\n",
       "      <td>0</td>\n",
       "      <td>61.0</td>\n",
       "      <td>0</td>\n",
       "      <td>0</td>\n",
       "      <td>1</td>\n",
       "      <td>3</td>\n",
       "      <td>0</td>\n",
       "      <td>202.21</td>\n",
       "      <td>28.1</td>\n",
       "      <td>2</td>\n",
       "      <td>1</td>\n",
       "    </tr>\n",
       "    <tr>\n",
       "      <th>2</th>\n",
       "      <td>31112</td>\n",
       "      <td>1</td>\n",
       "      <td>80.0</td>\n",
       "      <td>0</td>\n",
       "      <td>1</td>\n",
       "      <td>1</td>\n",
       "      <td>2</td>\n",
       "      <td>0</td>\n",
       "      <td>105.92</td>\n",
       "      <td>32.5</td>\n",
       "      <td>2</td>\n",
       "      <td>1</td>\n",
       "    </tr>\n",
       "    <tr>\n",
       "      <th>3</th>\n",
       "      <td>60182</td>\n",
       "      <td>0</td>\n",
       "      <td>49.0</td>\n",
       "      <td>0</td>\n",
       "      <td>0</td>\n",
       "      <td>1</td>\n",
       "      <td>2</td>\n",
       "      <td>1</td>\n",
       "      <td>171.23</td>\n",
       "      <td>34.4</td>\n",
       "      <td>3</td>\n",
       "      <td>1</td>\n",
       "    </tr>\n",
       "    <tr>\n",
       "      <th>4</th>\n",
       "      <td>1665</td>\n",
       "      <td>0</td>\n",
       "      <td>79.0</td>\n",
       "      <td>1</td>\n",
       "      <td>0</td>\n",
       "      <td>1</td>\n",
       "      <td>3</td>\n",
       "      <td>0</td>\n",
       "      <td>174.12</td>\n",
       "      <td>24.0</td>\n",
       "      <td>2</td>\n",
       "      <td>1</td>\n",
       "    </tr>\n",
       "  </tbody>\n",
       "</table>\n",
       "</div>"
      ],
      "text/plain": [
       "      id  gender   age  hypertension  heart_disease  ever_married  work_type  \\\n",
       "0   9046       1  67.0             0              1             1          2   \n",
       "1  51676       0  61.0             0              0             1          3   \n",
       "2  31112       1  80.0             0              1             1          2   \n",
       "3  60182       0  49.0             0              0             1          2   \n",
       "4   1665       0  79.0             1              0             1          3   \n",
       "\n",
       "   Residence_type  avg_glucose_level   bmi  smoking_status  stroke  \n",
       "0               1             228.69  36.6               1       1  \n",
       "1               0             202.21  28.1               2       1  \n",
       "2               0             105.92  32.5               2       1  \n",
       "3               1             171.23  34.4               3       1  \n",
       "4               0             174.12  24.0               2       1  "
      ]
     },
     "execution_count": 541,
     "metadata": {},
     "output_type": "execute_result"
    }
   ],
   "source": [
    "gender_encoder = LabelEncoder()\n",
    "ever_married_encoder = LabelEncoder()\n",
    "work_type_encoder = LabelEncoder()\n",
    "Residence_type_encoder = LabelEncoder()\n",
    "smoking_status_encoder = LabelEncoder()\n",
    "\n",
    "gender_encoder.fit(stroke_df['gender'])\n",
    "ever_married_encoder.fit(stroke_df['ever_married'])\n",
    "work_type_encoder.fit(stroke_df['work_type'])\n",
    "Residence_type_encoder.fit(stroke_df['Residence_type'])\n",
    "smoking_status_encoder.fit(stroke_df['smoking_status'])\n",
    "\n",
    "# 9056 Urban, Yes, Male, Private\n",
    "# 51676\tSelf-employed\n",
    "\n",
    "stroke_df['gender'] =  gender_encoder.transform(stroke_df['gender'])\n",
    "stroke_df['ever_married'] =  ever_married_encoder.transform(stroke_df['ever_married'])\n",
    "stroke_df['work_type'] =  work_type_encoder.transform(stroke_df['work_type'])\n",
    "stroke_df['Residence_type'] =  Residence_type_encoder.transform(stroke_df['Residence_type'])\n",
    "stroke_df['smoking_status'] =  smoking_status_encoder.transform(stroke_df['smoking_status'])\n",
    "\n",
    "stroke_df.head()"
   ]
  },
  {
   "cell_type": "markdown",
   "id": "865add10",
   "metadata": {},
   "source": [
    "Enocding is as it follows:\n",
    "    <ul>\n",
    "        <li>gender (Male - 1, Female - 0)</li>\n",
    "        <li>ever_maried (Yes - 1, No - 0)</li>\n",
    "        <li>work_type (Govt_job - 0, Never_worked - 1, Private -  2, Self-employed -  3,children - 4)</li>\n",
    "        <li>Residence_type (Urban - 1, Rural - 0)</li>\n",
    "    </ul>"
   ]
  },
  {
   "cell_type": "markdown",
   "id": "c6fc10b6",
   "metadata": {},
   "source": [
    "<h1>3. Explatory Data Analysis - PART 2</h1>"
   ]
  },
  {
   "cell_type": "markdown",
   "id": "fd655663",
   "metadata": {},
   "source": [
    "- Average glucose level and the frequency of stroke"
   ]
  },
  {
   "cell_type": "code",
   "execution_count": 92,
   "id": "4a3d498e",
   "metadata": {},
   "outputs": [
    {
     "data": {
      "image/png": "[encoded data removed]",
      "text/plain": [
       "<Figure size 5760x504 with 1 Axes>"
      ]
     },
     "metadata": {
      "needs_background": "light"
     },
     "output_type": "display_data"
    }
   ],
   "source": [
    "plt.figure(figsize=(80,7))\n",
    "plt.xticks(rotation = 90)\n",
    "sns.countplot(data = stroke_df, x = 'avg_glucose_level', hue = 'stroke')\n",
    "plt.show()"
   ]
  },
  {
   "cell_type": "markdown",
   "id": "fce4cbb0",
   "metadata": {},
   "source": [
    "- BMI and the frequency of stroke"
   ]
  },
  {
   "cell_type": "code",
   "execution_count": 37,
   "id": "a82bcdb0",
   "metadata": {},
   "outputs": [
    {
     "data": {
      "image/png": "[encoded data removed]",
      "text/plain": [
       "<Figure size 2880x504 with 1 Axes>"
      ]
     },
     "metadata": {
      "needs_background": "light"
     },
     "output_type": "display_data"
    }
   ],
   "source": [
    "plt.figure(figsize=(40,7))\n",
    "plt.xticks(rotation = 90)\n",
    "sns.countplot(data = stroke_df, x = 'bmi', hue = 'stroke', order = np.arange(9, 98, 0.5))\n",
    "plt.show()"
   ]
  },
  {
   "cell_type": "markdown",
   "id": "fc4f2361",
   "metadata": {},
   "source": [
    "- Heart disease and the frequency of stroke"
   ]
  },
  {
   "cell_type": "code",
   "execution_count": 290,
   "id": "d79ff478",
   "metadata": {},
   "outputs": [
    {
     "data": {
      "image/png": "[encoded data removed]",
      "text/plain": [
       "<Figure size 720x360 with 1 Axes>"
      ]
     },
     "metadata": {
      "needs_background": "light"
     },
     "output_type": "display_data"
    }
   ],
   "source": [
    "plt.figure(figsize=(10, 5))\n",
    "sns.countplot(data = stroke_df, x = 'heart_disease', hue = 'stroke')\n",
    "plt.show()"
   ]
  },
  {
   "cell_type": "markdown",
   "id": "2b64d803",
   "metadata": {},
   "source": [
    "- Hypertension and the frequency of stroke"
   ]
  },
  {
   "cell_type": "code",
   "execution_count": 291,
   "id": "d5c5726e",
   "metadata": {},
   "outputs": [
    {
     "data": {
      "image/png": "[encoded data removed]",
      "text/plain": [
       "<Figure size 720x360 with 1 Axes>"
      ]
     },
     "metadata": {
      "needs_background": "light"
     },
     "output_type": "display_data"
    }
   ],
   "source": [
    "plt.figure(figsize=(10, 5))\n",
    "sns.countplot(data = stroke_df, x = 'hypertension', hue = 'stroke')\n",
    "plt.show()"
   ]
  },
  {
   "cell_type": "markdown",
   "id": "a2c5a9af",
   "metadata": {},
   "source": [
    "- Work type and the frequency of stroke"
   ]
  },
  {
   "cell_type": "code",
   "execution_count": 34,
   "id": "57c21300",
   "metadata": {},
   "outputs": [
    {
     "data": {
      "image/png": "[encoded data removed]",
      "text/plain": [
       "<Figure size 720x360 with 1 Axes>"
      ]
     },
     "metadata": {
      "needs_background": "light"
     },
     "output_type": "display_data"
    }
   ],
   "source": [
    "plt.figure(figsize=(10, 5))\n",
    "sns.countplot(data = stroke_df, x = 'work_type', hue = 'stroke')\n",
    "plt.show()"
   ]
  },
  {
   "cell_type": "markdown",
   "id": "ddd0d1b6",
   "metadata": {},
   "source": [
    "- Smoking status and the frequency of stroke"
   ]
  },
  {
   "cell_type": "code",
   "execution_count": 292,
   "id": "7f39071f",
   "metadata": {},
   "outputs": [
    {
     "data": {
      "text/plain": [
       "<AxesSubplot:xlabel='smoking_status', ylabel='count'>"
      ]
     },
     "execution_count": 292,
     "metadata": {},
     "output_type": "execute_result"
    },
    {
     "data": {
      "image/png": "[encoded data removed]",
      "text/plain": [
       "<Figure size 432x288 with 1 Axes>"
      ]
     },
     "metadata": {
      "needs_background": "light"
     },
     "output_type": "display_data"
    }
   ],
   "source": [
    "sns.countplot(data = stroke_df, x= 'smoking_status', hue = 'stroke')"
   ]
  },
  {
   "cell_type": "markdown",
   "id": "e5dde770",
   "metadata": {},
   "source": [
    "- Age and the frequency of stroke"
   ]
  },
  {
   "cell_type": "code",
   "execution_count": 293,
   "id": "03abd63d",
   "metadata": {},
   "outputs": [
    {
     "data": {
      "image/png": "[encoded data removed]",
      "text/plain": [
       "<Figure size 2088x504 with 1 Axes>"
      ]
     },
     "metadata": {
      "needs_background": "light"
     },
     "output_type": "display_data"
    }
   ],
   "source": [
    "plt.figure(figsize=(29,7))\n",
    "plt.xticks(rotation = 90)\n",
    "sns.countplot(data = stroke_df, x = 'age', hue = 'stroke')\n",
    "plt.show()"
   ]
  },
  {
   "cell_type": "markdown",
   "id": "b6bc6625",
   "metadata": {},
   "source": [
    "- Gender and the frequency of stroke"
   ]
  },
  {
   "cell_type": "code",
   "execution_count": 294,
   "id": "545701cd",
   "metadata": {},
   "outputs": [
    {
     "data": {
      "text/plain": [
       "<AxesSubplot:xlabel='gender', ylabel='count'>"
      ]
     },
     "execution_count": 294,
     "metadata": {},
     "output_type": "execute_result"
    },
    {
     "data": {
      "image/png": "[encoded data removed]",
      "text/plain": [
       "<Figure size 432x288 with 1 Axes>"
      ]
     },
     "metadata": {
      "needs_background": "light"
     },
     "output_type": "display_data"
    }
   ],
   "source": [
    "sns.countplot(data = stroke_df, x = 'gender', hue = 'stroke')"
   ]
  },
  {
   "cell_type": "markdown",
   "id": "11462ea3",
   "metadata": {},
   "source": [
    "- Marital status and the frequency of stroke"
   ]
  },
  {
   "cell_type": "code",
   "execution_count": 295,
   "id": "1f5d2614",
   "metadata": {},
   "outputs": [
    {
     "data": {
      "image/png": "[encoded data removed]",
      "text/plain": [
       "<Figure size 720x360 with 1 Axes>"
      ]
     },
     "metadata": {
      "needs_background": "light"
     },
     "output_type": "display_data"
    }
   ],
   "source": [
    "plt.figure(figsize=(10, 5))\n",
    "sns.countplot(data = stroke_df, x = 'ever_married', hue = 'stroke')\n",
    "plt.show()"
   ]
  },
  {
   "cell_type": "markdown",
   "id": "97c866e8",
   "metadata": {},
   "source": [
    "- Residence type and the frequency of stroke"
   ]
  },
  {
   "cell_type": "code",
   "execution_count": 296,
   "id": "7e3e068e",
   "metadata": {},
   "outputs": [
    {
     "data": {
      "text/plain": [
       "<AxesSubplot:xlabel='Residence_type', ylabel='count'>"
      ]
     },
     "execution_count": 296,
     "metadata": {},
     "output_type": "execute_result"
    },
    {
     "data": {
      "image/png": "[encoded data removed]",
      "text/plain": [
       "<Figure size 432x288 with 1 Axes>"
      ]
     },
     "metadata": {
      "needs_background": "light"
     },
     "output_type": "display_data"
    }
   ],
   "source": [
    "sns.countplot(data = stroke_df, x = 'Residence_type', hue = 'stroke')"
   ]
  },
  {
   "cell_type": "markdown",
   "id": "90cfd899",
   "metadata": {},
   "source": [
    "<h3>Correlation between independent variables (<code>avg_glucose_level</code>, <code>bmi</code>, <code>hypertension</code>, <code>heart_disease</code>, <code>age</code>, <code>ever_married</code>, <code>Residence_type</code>) and denependent variable - <code>stroke</code> </h3>"
   ]
  },
  {
   "cell_type": "markdown",
   "id": "6b09eb38",
   "metadata": {},
   "source": [
    "Correlation between <code>avg_glucose_level</code> and <code>stroke</code>"
   ]
  },
  {
   "cell_type": "code",
   "execution_count": 483,
   "id": "c6679a8b",
   "metadata": {},
   "outputs": [
    {
     "name": "stdout",
     "output_type": "stream",
     "text": [
      "0.1319\n"
     ]
    }
   ],
   "source": [
    "avg_glucose_level_correlation = round(stroke_df['avg_glucose_level'].corr(stroke_df['stroke']), 4)\n",
    "\n",
    "print(avg_glucose_level_correlation)"
   ]
  },
  {
   "cell_type": "markdown",
   "id": "403817ca",
   "metadata": {},
   "source": [
    "Correlation between <code>bmi</code> and <code>stroke</code>"
   ]
  },
  {
   "cell_type": "code",
   "execution_count": 484,
   "id": "62dc350f",
   "metadata": {},
   "outputs": [
    {
     "name": "stdout",
     "output_type": "stream",
     "text": [
      "0.0434\n"
     ]
    }
   ],
   "source": [
    "stroke_correlation = round(stroke_df['bmi'].corr(stroke_df['stroke']), 4)\n",
    "\n",
    "print(stroke_correlation)"
   ]
  },
  {
   "cell_type": "markdown",
   "id": "b7bc6ab3",
   "metadata": {},
   "source": [
    "Correlation between <code>hypertension</code> and <code>stroke</code>"
   ]
  },
  {
   "cell_type": "code",
   "execution_count": 431,
   "id": "4d8112a4",
   "metadata": {},
   "outputs": [
    {
     "name": "stdout",
     "output_type": "stream",
     "text": [
      "0.1279\n"
     ]
    }
   ],
   "source": [
    "hypertension_correlation = round(stroke_df['hypertension'].corr(stroke_df['stroke']), 4)\n",
    "\n",
    "print(hypertension_correlation)"
   ]
  },
  {
   "cell_type": "markdown",
   "id": "feff371b",
   "metadata": {},
   "source": [
    "Correlation between <code>heart_disease</code> and <code>stroke</code>"
   ]
  },
  {
   "cell_type": "code",
   "execution_count": 432,
   "id": "1f24058e",
   "metadata": {},
   "outputs": [
    {
     "name": "stdout",
     "output_type": "stream",
     "text": [
      "0.1349\n"
     ]
    }
   ],
   "source": [
    "heart_disease_correlation = round(stroke_df['heart_disease'].corr(stroke_df['stroke']), 4)\n",
    "\n",
    "print(heart_disease_correlation)"
   ]
  },
  {
   "cell_type": "markdown",
   "id": "23f289c1",
   "metadata": {},
   "source": [
    "Correlation between <code>age</code> and <code>stroke</code>"
   ]
  },
  {
   "cell_type": "code",
   "execution_count": 433,
   "id": "a72fd08a",
   "metadata": {},
   "outputs": [
    {
     "name": "stdout",
     "output_type": "stream",
     "text": [
      "0.2453\n"
     ]
    }
   ],
   "source": [
    "age_correlation = round(stroke_df['age'].corr(stroke_df['stroke']), 4)\n",
    "\n",
    "print(age_correlation)"
   ]
  },
  {
   "cell_type": "markdown",
   "id": "57734f36",
   "metadata": {},
   "source": [
    "Correlation between <code>ever_married</code> and <code>stroke</code>"
   ]
  },
  {
   "cell_type": "code",
   "execution_count": 434,
   "id": "bd6339bb",
   "metadata": {},
   "outputs": [
    {
     "name": "stdout",
     "output_type": "stream",
     "text": [
      "0.1083\n"
     ]
    }
   ],
   "source": [
    "correlation = round(stroke_df['ever_married'].corr(stroke_df['stroke']), 4)\n",
    "\n",
    "print(correlation)"
   ]
  },
  {
   "cell_type": "markdown",
   "id": "acbb3c2f",
   "metadata": {},
   "source": [
    "Correlation between <code>work_type</code> and <code>stroke</code>"
   ]
  },
  {
   "cell_type": "code",
   "execution_count": 435,
   "id": "c586138d",
   "metadata": {},
   "outputs": [
    {
     "data": {
      "text/plain": [
       "-0.0323"
      ]
     },
     "execution_count": 435,
     "metadata": {},
     "output_type": "execute_result"
    }
   ],
   "source": [
    "correlation = round(stroke_df['work_type'].corr(stroke_df['stroke']), 4)\n",
    "\n",
    "correlation"
   ]
  },
  {
   "cell_type": "markdown",
   "id": "e378284c",
   "metadata": {},
   "source": [
    "Correlation between <code>Residence_type</code> and <code>stroke</code>"
   ]
  },
  {
   "cell_type": "code",
   "execution_count": 436,
   "id": "5d009930",
   "metadata": {},
   "outputs": [
    {
     "name": "stdout",
     "output_type": "stream",
     "text": [
      "0.0155\n"
     ]
    }
   ],
   "source": [
    "correlation = round(stroke_df[\"Residence_type\"].corr(stroke_df['stroke']), 4)\n",
    "\n",
    "print(correlation)"
   ]
  },
  {
   "cell_type": "markdown",
   "id": "3c938f30",
   "metadata": {},
   "source": [
    "Apply MinMaxScaler for data normalization. For the fitting, we use the fit() function. It means that we use the training data for estimating the minimum and maximum observable values. The function transform() apply the scale to training data. It means you can use the normalized data to train your model. The default scale for the MinMaxScaler is to rescale variables into the range [0,1]."
   ]
  },
  {
   "cell_type": "code",
   "execution_count": 542,
   "id": "59bac1fe",
   "metadata": {},
   "outputs": [],
   "source": [
    "scaler = MinMaxScaler()\n",
    "\n",
    "normalized_array = scaler.fit_transform(stroke_df[['age','bmi','avg_glucose_level']])\n",
    "normalized_df = pd.DataFrame(normalized_array, columns=['age','bmi','avg_glucose_level'])\n",
    "\n",
    "stroke_df[['age', 'bmi', 'avg_glucose_level']] = normalized_df"
   ]
  },
  {
   "cell_type": "code",
   "execution_count": 543,
   "id": "287409fa",
   "metadata": {},
   "outputs": [
    {
     "data": {
      "text/html": [
       "<div>\n",
       "<style scoped>\n",
       "    .dataframe tbody tr th:only-of-type {\n",
       "        vertical-align: middle;\n",
       "    }\n",
       "\n",
       "    .dataframe tbody tr th {\n",
       "        vertical-align: top;\n",
       "    }\n",
       "\n",
       "    .dataframe thead th {\n",
       "        text-align: right;\n",
       "    }\n",
       "</style>\n",
       "<table border=\"1\" class=\"dataframe\">\n",
       "  <thead>\n",
       "    <tr style=\"text-align: right;\">\n",
       "      <th></th>\n",
       "      <th>id</th>\n",
       "      <th>gender</th>\n",
       "      <th>age</th>\n",
       "      <th>hypertension</th>\n",
       "      <th>heart_disease</th>\n",
       "      <th>ever_married</th>\n",
       "      <th>work_type</th>\n",
       "      <th>Residence_type</th>\n",
       "      <th>avg_glucose_level</th>\n",
       "      <th>bmi</th>\n",
       "      <th>smoking_status</th>\n",
       "      <th>stroke</th>\n",
       "    </tr>\n",
       "  </thead>\n",
       "  <tbody>\n",
       "    <tr>\n",
       "      <th>0</th>\n",
       "      <td>9046</td>\n",
       "      <td>1</td>\n",
       "      <td>0.816895</td>\n",
       "      <td>0</td>\n",
       "      <td>1</td>\n",
       "      <td>1</td>\n",
       "      <td>2</td>\n",
       "      <td>1</td>\n",
       "      <td>0.801265</td>\n",
       "      <td>0.757925</td>\n",
       "      <td>1</td>\n",
       "      <td>1</td>\n",
       "    </tr>\n",
       "    <tr>\n",
       "      <th>1</th>\n",
       "      <td>51676</td>\n",
       "      <td>0</td>\n",
       "      <td>0.743652</td>\n",
       "      <td>0</td>\n",
       "      <td>0</td>\n",
       "      <td>1</td>\n",
       "      <td>3</td>\n",
       "      <td>0</td>\n",
       "      <td>0.679023</td>\n",
       "      <td>0.512968</td>\n",
       "      <td>2</td>\n",
       "      <td>1</td>\n",
       "    </tr>\n",
       "    <tr>\n",
       "      <th>2</th>\n",
       "      <td>31112</td>\n",
       "      <td>1</td>\n",
       "      <td>0.975586</td>\n",
       "      <td>0</td>\n",
       "      <td>1</td>\n",
       "      <td>1</td>\n",
       "      <td>2</td>\n",
       "      <td>0</td>\n",
       "      <td>0.234512</td>\n",
       "      <td>0.639769</td>\n",
       "      <td>2</td>\n",
       "      <td>1</td>\n",
       "    </tr>\n",
       "    <tr>\n",
       "      <th>3</th>\n",
       "      <td>60182</td>\n",
       "      <td>0</td>\n",
       "      <td>0.597168</td>\n",
       "      <td>0</td>\n",
       "      <td>0</td>\n",
       "      <td>1</td>\n",
       "      <td>2</td>\n",
       "      <td>1</td>\n",
       "      <td>0.536008</td>\n",
       "      <td>0.694524</td>\n",
       "      <td>3</td>\n",
       "      <td>1</td>\n",
       "    </tr>\n",
       "    <tr>\n",
       "      <th>4</th>\n",
       "      <td>1665</td>\n",
       "      <td>0</td>\n",
       "      <td>0.963379</td>\n",
       "      <td>1</td>\n",
       "      <td>0</td>\n",
       "      <td>1</td>\n",
       "      <td>3</td>\n",
       "      <td>0</td>\n",
       "      <td>0.549349</td>\n",
       "      <td>0.394813</td>\n",
       "      <td>2</td>\n",
       "      <td>1</td>\n",
       "    </tr>\n",
       "    <tr>\n",
       "      <th>...</th>\n",
       "      <td>...</td>\n",
       "      <td>...</td>\n",
       "      <td>...</td>\n",
       "      <td>...</td>\n",
       "      <td>...</td>\n",
       "      <td>...</td>\n",
       "      <td>...</td>\n",
       "      <td>...</td>\n",
       "      <td>...</td>\n",
       "      <td>...</td>\n",
       "      <td>...</td>\n",
       "      <td>...</td>\n",
       "    </tr>\n",
       "    <tr>\n",
       "      <th>5105</th>\n",
       "      <td>18234</td>\n",
       "      <td>0</td>\n",
       "      <td>0.975586</td>\n",
       "      <td>1</td>\n",
       "      <td>0</td>\n",
       "      <td>1</td>\n",
       "      <td>2</td>\n",
       "      <td>1</td>\n",
       "      <td>0.132167</td>\n",
       "      <td>0.512968</td>\n",
       "      <td>2</td>\n",
       "      <td>0</td>\n",
       "    </tr>\n",
       "    <tr>\n",
       "      <th>5106</th>\n",
       "      <td>44873</td>\n",
       "      <td>0</td>\n",
       "      <td>0.987793</td>\n",
       "      <td>0</td>\n",
       "      <td>0</td>\n",
       "      <td>1</td>\n",
       "      <td>3</td>\n",
       "      <td>1</td>\n",
       "      <td>0.323516</td>\n",
       "      <td>0.855908</td>\n",
       "      <td>2</td>\n",
       "      <td>0</td>\n",
       "    </tr>\n",
       "    <tr>\n",
       "      <th>5107</th>\n",
       "      <td>19723</td>\n",
       "      <td>0</td>\n",
       "      <td>0.426270</td>\n",
       "      <td>0</td>\n",
       "      <td>0</td>\n",
       "      <td>1</td>\n",
       "      <td>3</td>\n",
       "      <td>0</td>\n",
       "      <td>0.128658</td>\n",
       "      <td>0.585014</td>\n",
       "      <td>2</td>\n",
       "      <td>0</td>\n",
       "    </tr>\n",
       "    <tr>\n",
       "      <th>5108</th>\n",
       "      <td>37544</td>\n",
       "      <td>1</td>\n",
       "      <td>0.621582</td>\n",
       "      <td>0</td>\n",
       "      <td>0</td>\n",
       "      <td>1</td>\n",
       "      <td>2</td>\n",
       "      <td>0</td>\n",
       "      <td>0.513203</td>\n",
       "      <td>0.440922</td>\n",
       "      <td>1</td>\n",
       "      <td>0</td>\n",
       "    </tr>\n",
       "    <tr>\n",
       "      <th>5109</th>\n",
       "      <td>44679</td>\n",
       "      <td>0</td>\n",
       "      <td>0.536133</td>\n",
       "      <td>0</td>\n",
       "      <td>0</td>\n",
       "      <td>1</td>\n",
       "      <td>0</td>\n",
       "      <td>1</td>\n",
       "      <td>0.139230</td>\n",
       "      <td>0.458213</td>\n",
       "      <td>0</td>\n",
       "      <td>0</td>\n",
       "    </tr>\n",
       "  </tbody>\n",
       "</table>\n",
       "<p>5110 rows × 12 columns</p>\n",
       "</div>"
      ],
      "text/plain": [
       "         id  gender       age  hypertension  heart_disease  ever_married  \\\n",
       "0      9046       1  0.816895             0              1             1   \n",
       "1     51676       0  0.743652             0              0             1   \n",
       "2     31112       1  0.975586             0              1             1   \n",
       "3     60182       0  0.597168             0              0             1   \n",
       "4      1665       0  0.963379             1              0             1   \n",
       "...     ...     ...       ...           ...            ...           ...   \n",
       "5105  18234       0  0.975586             1              0             1   \n",
       "5106  44873       0  0.987793             0              0             1   \n",
       "5107  19723       0  0.426270             0              0             1   \n",
       "5108  37544       1  0.621582             0              0             1   \n",
       "5109  44679       0  0.536133             0              0             1   \n",
       "\n",
       "      work_type  Residence_type  avg_glucose_level       bmi  smoking_status  \\\n",
       "0             2               1           0.801265  0.757925               1   \n",
       "1             3               0           0.679023  0.512968               2   \n",
       "2             2               0           0.234512  0.639769               2   \n",
       "3             2               1           0.536008  0.694524               3   \n",
       "4             3               0           0.549349  0.394813               2   \n",
       "...         ...             ...                ...       ...             ...   \n",
       "5105          2               1           0.132167  0.512968               2   \n",
       "5106          3               1           0.323516  0.855908               2   \n",
       "5107          3               0           0.128658  0.585014               2   \n",
       "5108          2               0           0.513203  0.440922               1   \n",
       "5109          0               1           0.139230  0.458213               0   \n",
       "\n",
       "      stroke  \n",
       "0          1  \n",
       "1          1  \n",
       "2          1  \n",
       "3          1  \n",
       "4          1  \n",
       "...      ...  \n",
       "5105       0  \n",
       "5106       0  \n",
       "5107       0  \n",
       "5108       0  \n",
       "5109       0  \n",
       "\n",
       "[5110 rows x 12 columns]"
      ]
     },
     "execution_count": 543,
     "metadata": {},
     "output_type": "execute_result"
    }
   ],
   "source": [
    "stroke_df"
   ]
  },
  {
   "cell_type": "markdown",
   "id": "615f27bb",
   "metadata": {},
   "source": [
    "Drop columns that are not relevant for the model"
   ]
  },
  {
   "cell_type": "code",
   "execution_count": 544,
   "id": "8541e508",
   "metadata": {},
   "outputs": [
    {
     "data": {
      "text/html": [
       "<div>\n",
       "<style scoped>\n",
       "    .dataframe tbody tr th:only-of-type {\n",
       "        vertical-align: middle;\n",
       "    }\n",
       "\n",
       "    .dataframe tbody tr th {\n",
       "        vertical-align: top;\n",
       "    }\n",
       "\n",
       "    .dataframe thead th {\n",
       "        text-align: right;\n",
       "    }\n",
       "</style>\n",
       "<table border=\"1\" class=\"dataframe\">\n",
       "  <thead>\n",
       "    <tr style=\"text-align: right;\">\n",
       "      <th></th>\n",
       "      <th>gender</th>\n",
       "      <th>age</th>\n",
       "      <th>hypertension</th>\n",
       "      <th>heart_disease</th>\n",
       "      <th>ever_married</th>\n",
       "      <th>work_type</th>\n",
       "      <th>Residence_type</th>\n",
       "      <th>avg_glucose_level</th>\n",
       "      <th>bmi</th>\n",
       "      <th>smoking_status</th>\n",
       "      <th>stroke</th>\n",
       "    </tr>\n",
       "  </thead>\n",
       "  <tbody>\n",
       "    <tr>\n",
       "      <th>0</th>\n",
       "      <td>1</td>\n",
       "      <td>0.816895</td>\n",
       "      <td>0</td>\n",
       "      <td>1</td>\n",
       "      <td>1</td>\n",
       "      <td>2</td>\n",
       "      <td>1</td>\n",
       "      <td>0.801265</td>\n",
       "      <td>0.757925</td>\n",
       "      <td>1</td>\n",
       "      <td>1</td>\n",
       "    </tr>\n",
       "    <tr>\n",
       "      <th>1</th>\n",
       "      <td>0</td>\n",
       "      <td>0.743652</td>\n",
       "      <td>0</td>\n",
       "      <td>0</td>\n",
       "      <td>1</td>\n",
       "      <td>3</td>\n",
       "      <td>0</td>\n",
       "      <td>0.679023</td>\n",
       "      <td>0.512968</td>\n",
       "      <td>2</td>\n",
       "      <td>1</td>\n",
       "    </tr>\n",
       "    <tr>\n",
       "      <th>2</th>\n",
       "      <td>1</td>\n",
       "      <td>0.975586</td>\n",
       "      <td>0</td>\n",
       "      <td>1</td>\n",
       "      <td>1</td>\n",
       "      <td>2</td>\n",
       "      <td>0</td>\n",
       "      <td>0.234512</td>\n",
       "      <td>0.639769</td>\n",
       "      <td>2</td>\n",
       "      <td>1</td>\n",
       "    </tr>\n",
       "    <tr>\n",
       "      <th>3</th>\n",
       "      <td>0</td>\n",
       "      <td>0.597168</td>\n",
       "      <td>0</td>\n",
       "      <td>0</td>\n",
       "      <td>1</td>\n",
       "      <td>2</td>\n",
       "      <td>1</td>\n",
       "      <td>0.536008</td>\n",
       "      <td>0.694524</td>\n",
       "      <td>3</td>\n",
       "      <td>1</td>\n",
       "    </tr>\n",
       "    <tr>\n",
       "      <th>4</th>\n",
       "      <td>0</td>\n",
       "      <td>0.963379</td>\n",
       "      <td>1</td>\n",
       "      <td>0</td>\n",
       "      <td>1</td>\n",
       "      <td>3</td>\n",
       "      <td>0</td>\n",
       "      <td>0.549349</td>\n",
       "      <td>0.394813</td>\n",
       "      <td>2</td>\n",
       "      <td>1</td>\n",
       "    </tr>\n",
       "    <tr>\n",
       "      <th>...</th>\n",
       "      <td>...</td>\n",
       "      <td>...</td>\n",
       "      <td>...</td>\n",
       "      <td>...</td>\n",
       "      <td>...</td>\n",
       "      <td>...</td>\n",
       "      <td>...</td>\n",
       "      <td>...</td>\n",
       "      <td>...</td>\n",
       "      <td>...</td>\n",
       "      <td>...</td>\n",
       "    </tr>\n",
       "    <tr>\n",
       "      <th>5105</th>\n",
       "      <td>0</td>\n",
       "      <td>0.975586</td>\n",
       "      <td>1</td>\n",
       "      <td>0</td>\n",
       "      <td>1</td>\n",
       "      <td>2</td>\n",
       "      <td>1</td>\n",
       "      <td>0.132167</td>\n",
       "      <td>0.512968</td>\n",
       "      <td>2</td>\n",
       "      <td>0</td>\n",
       "    </tr>\n",
       "    <tr>\n",
       "      <th>5106</th>\n",
       "      <td>0</td>\n",
       "      <td>0.987793</td>\n",
       "      <td>0</td>\n",
       "      <td>0</td>\n",
       "      <td>1</td>\n",
       "      <td>3</td>\n",
       "      <td>1</td>\n",
       "      <td>0.323516</td>\n",
       "      <td>0.855908</td>\n",
       "      <td>2</td>\n",
       "      <td>0</td>\n",
       "    </tr>\n",
       "    <tr>\n",
       "      <th>5107</th>\n",
       "      <td>0</td>\n",
       "      <td>0.426270</td>\n",
       "      <td>0</td>\n",
       "      <td>0</td>\n",
       "      <td>1</td>\n",
       "      <td>3</td>\n",
       "      <td>0</td>\n",
       "      <td>0.128658</td>\n",
       "      <td>0.585014</td>\n",
       "      <td>2</td>\n",
       "      <td>0</td>\n",
       "    </tr>\n",
       "    <tr>\n",
       "      <th>5108</th>\n",
       "      <td>1</td>\n",
       "      <td>0.621582</td>\n",
       "      <td>0</td>\n",
       "      <td>0</td>\n",
       "      <td>1</td>\n",
       "      <td>2</td>\n",
       "      <td>0</td>\n",
       "      <td>0.513203</td>\n",
       "      <td>0.440922</td>\n",
       "      <td>1</td>\n",
       "      <td>0</td>\n",
       "    </tr>\n",
       "    <tr>\n",
       "      <th>5109</th>\n",
       "      <td>0</td>\n",
       "      <td>0.536133</td>\n",
       "      <td>0</td>\n",
       "      <td>0</td>\n",
       "      <td>1</td>\n",
       "      <td>0</td>\n",
       "      <td>1</td>\n",
       "      <td>0.139230</td>\n",
       "      <td>0.458213</td>\n",
       "      <td>0</td>\n",
       "      <td>0</td>\n",
       "    </tr>\n",
       "  </tbody>\n",
       "</table>\n",
       "<p>5110 rows × 11 columns</p>\n",
       "</div>"
      ],
      "text/plain": [
       "      gender       age  hypertension  heart_disease  ever_married  work_type  \\\n",
       "0          1  0.816895             0              1             1          2   \n",
       "1          0  0.743652             0              0             1          3   \n",
       "2          1  0.975586             0              1             1          2   \n",
       "3          0  0.597168             0              0             1          2   \n",
       "4          0  0.963379             1              0             1          3   \n",
       "...      ...       ...           ...            ...           ...        ...   \n",
       "5105       0  0.975586             1              0             1          2   \n",
       "5106       0  0.987793             0              0             1          3   \n",
       "5107       0  0.426270             0              0             1          3   \n",
       "5108       1  0.621582             0              0             1          2   \n",
       "5109       0  0.536133             0              0             1          0   \n",
       "\n",
       "      Residence_type  avg_glucose_level       bmi  smoking_status  stroke  \n",
       "0                  1           0.801265  0.757925               1       1  \n",
       "1                  0           0.679023  0.512968               2       1  \n",
       "2                  0           0.234512  0.639769               2       1  \n",
       "3                  1           0.536008  0.694524               3       1  \n",
       "4                  0           0.549349  0.394813               2       1  \n",
       "...              ...                ...       ...             ...     ...  \n",
       "5105               1           0.132167  0.512968               2       0  \n",
       "5106               1           0.323516  0.855908               2       0  \n",
       "5107               0           0.128658  0.585014               2       0  \n",
       "5108               0           0.513203  0.440922               1       0  \n",
       "5109               1           0.139230  0.458213               0       0  \n",
       "\n",
       "[5110 rows x 11 columns]"
      ]
     },
     "execution_count": 544,
     "metadata": {},
     "output_type": "execute_result"
    }
   ],
   "source": [
    "stroke_df = stroke_df.drop(columns = 'id', axis = 1)\n",
    "\n",
    "stroke_df"
   ]
  },
  {
   "cell_type": "markdown",
   "id": "8168117e",
   "metadata": {},
   "source": [
    "<h1>4. Building model</h1>"
   ]
  },
  {
   "cell_type": "markdown",
   "id": "e537d764",
   "metadata": {},
   "source": [
    " - Divide into training and testing subset"
   ]
  },
  {
   "cell_type": "code",
   "execution_count": 545,
   "id": "90451a15",
   "metadata": {},
   "outputs": [],
   "source": [
    "X = stroke_df.drop(['stroke'], axis = 1).values \n",
    "y = stroke_df['stroke'].values\n",
    "\n",
    "X_train, X_test, y_train, y_test = train_test_split(X, y, test_size = 0.20, random_state = 0)"
   ]
  },
  {
   "cell_type": "code",
   "execution_count": 546,
   "id": "50cfdb40",
   "metadata": {},
   "outputs": [],
   "source": [
    "logreg = LogisticRegression(max_iter = 10000)\n",
    "rf = RandomForestClassifier(n_jobs = -1, criterion = 'gini', n_estimators = 50)\n",
    "\n",
    "rf.fit(X_train, y_train)\n",
    "logreg.fit(X_train, y_train)\n",
    "\n",
    "y_pred_logreg = logreg.predict(X_test)\n",
    "y_pred_rf = rf.predict(X_test)"
   ]
  },
  {
   "cell_type": "code",
   "execution_count": 547,
   "id": "d4687f39",
   "metadata": {},
   "outputs": [
    {
     "data": {
      "text/plain": [
       "array([[968,   0],\n",
       "       [ 54,   0]])"
      ]
     },
     "execution_count": 547,
     "metadata": {},
     "output_type": "execute_result"
    }
   ],
   "source": [
    "cnf_matrix_logreg = metrics.confusion_matrix(y_test, y_pred_logreg)\n",
    "\n",
    "cnf_matrix_logreg"
   ]
  },
  {
   "cell_type": "code",
   "execution_count": 548,
   "id": "a124c74f",
   "metadata": {},
   "outputs": [
    {
     "data": {
      "text/plain": [
       "array([[967,   1],\n",
       "       [ 54,   0]])"
      ]
     },
     "execution_count": 548,
     "metadata": {},
     "output_type": "execute_result"
    }
   ],
   "source": [
    "cnf_matrix_rf = metrics.confusion_matrix(y_test, y_pred_rf)\n",
    "\n",
    "cnf_matrix_rf"
   ]
  },
  {
   "cell_type": "code",
   "execution_count": 549,
   "id": "f2a9bd56",
   "metadata": {},
   "outputs": [
    {
     "name": "stdout",
     "output_type": "stream",
     "text": [
      "Accuracy:  0.9471624266144814\n",
      "Precision:  0.0\n",
      "Recall/Sensitivity:  0.0\n"
     ]
    },
    {
     "name": "stderr",
     "output_type": "stream",
     "text": [
      "/Users/alenvlahovljak/opt/anaconda3/lib/python3.8/site-packages/sklearn/metrics/_classification.py:1245: UndefinedMetricWarning: Precision is ill-defined and being set to 0.0 due to no predicted samples. Use `zero_division` parameter to control this behavior.\n",
      "  _warn_prf(average, modifier, msg_start, len(result))\n"
     ]
    }
   ],
   "source": [
    "print(\"Accuracy: \", metrics.accuracy_score(y_test, y_pred_logreg))\n",
    "print(\"Precision: \", metrics.precision_score(y_test, y_pred_logreg))\n",
    "print(\"Recall/Sensitivity: \", metrics.recall_score(y_test, y_pred_logreg))"
   ]
  },
  {
   "cell_type": "code",
   "execution_count": 550,
   "id": "b4dd2431",
   "metadata": {},
   "outputs": [
    {
     "name": "stdout",
     "output_type": "stream",
     "text": [
      "Accuracy:  0.9461839530332681\n",
      "Precision:  0.0\n",
      "Recall/Sensitivity:  0.0\n"
     ]
    }
   ],
   "source": [
    "print(\"Accuracy: \", metrics.accuracy_score(y_test, y_pred_rf))\n",
    "print(\"Precision: \", metrics.precision_score(y_test, y_pred_rf))\n",
    "print(\"Recall/Sensitivity: \", metrics.recall_score(y_test, y_pred_rf))"
   ]
  },
  {
   "cell_type": "markdown",
   "id": "db9ec57b",
   "metadata": {},
   "source": [
    "Imbalanced classification involves developing predictive models on classification datasets with a severe class imbalance."
   ]
  },
  {
   "cell_type": "code",
   "execution_count": 563,
   "id": "5808259a",
   "metadata": {},
   "outputs": [],
   "source": [
    "smote = SMOTE(random_state = 45)\n",
    "\n",
    "s_X_train_logreg, s_y_train_logreg =smote.fit_resample(X_train,y_train)\n",
    "s_X_train_rf, s_y_train_rf =smote.fit_resample(X_train,y_train)\n",
    "\n",
    "s_X_test_logreg, s_y_test_logreg = smote.fit_resample(X_test,y_test)\n",
    "s_X_test_rf, s_y_test_rf = smote.fit_resample(X_test,y_test)"
   ]
  },
  {
   "cell_type": "code",
   "execution_count": 569,
   "id": "d6d3cef7",
   "metadata": {},
   "outputs": [],
   "source": [
    "s_logreg = LogisticRegression(max_iter = 10000)\n",
    "s_rf = RandomForestClassifier(n_jobs = -1, criterion = 'gini', n_estimators = 50)"
   ]
  },
  {
   "cell_type": "code",
   "execution_count": 570,
   "id": "0a0855f4",
   "metadata": {},
   "outputs": [
    {
     "data": {
      "text/plain": [
       "RandomForestClassifier(n_estimators=50, n_jobs=-1)"
      ]
     },
     "execution_count": 570,
     "metadata": {},
     "output_type": "execute_result"
    }
   ],
   "source": [
    "s_logreg.fit(s_X_train_logreg, s_y_train_logreg)\n",
    "s_rf.fit(s_X_train_rf, s_y_train_rf)"
   ]
  },
  {
   "cell_type": "code",
   "execution_count": 571,
   "id": "9e42aca2",
   "metadata": {},
   "outputs": [],
   "source": [
    "s_y_pred_logreg = s_logreg.predict(s_X_test_logreg)\n",
    "s_y_pred_rf = s_rf.predict(s_X_test_rf)"
   ]
  },
  {
   "cell_type": "code",
   "execution_count": 572,
   "id": "9c633cd0",
   "metadata": {},
   "outputs": [
    {
     "name": "stdout",
     "output_type": "stream",
     "text": [
      "Logic Regression: After Balancing, Models Accuracy = 77.01%\n",
      "Random Forest: After Balancing, Models Accuracy = 80.48%\n"
     ]
    }
   ],
   "source": [
    "print(f'Logic Regression: After Balancing, Models Accuracy = {round(metrics.accuracy_score(s_y_test_logreg, s_y_pred_logreg) * 100, 2)}%')\n",
    "print(f'Random Forest: After Balancing, Models Accuracy = {round(metrics.accuracy_score(s_y_test_rf, s_y_pred_rf) * 100, 2)}%')"
   ]
  },
  {
   "cell_type": "code",
   "execution_count": 573,
   "id": "42da70ac",
   "metadata": {},
   "outputs": [],
   "source": [
    "matrix_logreg = metrics.confusion_matrix(s_y_test_logreg, s_y_pred_logreg)\n",
    "matrix_rf = metrics.confusion_matrix(s_y_test_rf, s_y_pred_rf)"
   ]
  },
  {
   "cell_type": "code",
   "execution_count": 574,
   "id": "bbc44a01",
   "metadata": {},
   "outputs": [
    {
     "data": {
      "text/plain": [
       "array([[740, 228],\n",
       "       [217, 751]])"
      ]
     },
     "execution_count": 574,
     "metadata": {},
     "output_type": "execute_result"
    }
   ],
   "source": [
    "matrix_logreg"
   ]
  },
  {
   "cell_type": "code",
   "execution_count": 575,
   "id": "260582b3",
   "metadata": {},
   "outputs": [
    {
     "data": {
      "text/plain": [
       "array([[915,  53],\n",
       "       [325, 643]])"
      ]
     },
     "execution_count": 575,
     "metadata": {},
     "output_type": "execute_result"
    }
   ],
   "source": [
    "matrix_rf"
   ]
  },
  {
   "cell_type": "code",
   "execution_count": 576,
   "id": "7dd66a1f",
   "metadata": {},
   "outputs": [],
   "source": [
    "roc_score_logreg = metrics.roc_auc_score(s_y_test_logreg, s_y_pred_logreg)\n",
    "roc_score_rf = metrics.roc_auc_score(s_y_test_rf, s_y_pred_rf)"
   ]
  },
  {
   "cell_type": "code",
   "execution_count": 577,
   "id": "7b854ce8",
   "metadata": {},
   "outputs": [
    {
     "data": {
      "text/plain": [
       "0.7701446280991736"
      ]
     },
     "execution_count": 577,
     "metadata": {},
     "output_type": "execute_result"
    }
   ],
   "source": [
    "roc_score_logreg"
   ]
  },
  {
   "cell_type": "code",
   "execution_count": 578,
   "id": "0efdeef8",
   "metadata": {},
   "outputs": [
    {
     "data": {
      "text/plain": [
       "0.8047520661157026"
      ]
     },
     "execution_count": 578,
     "metadata": {},
     "output_type": "execute_result"
    }
   ],
   "source": [
    "roc_score_rf"
   ]
  },
  {
   "cell_type": "code",
   "execution_count": 583,
   "id": "9bee4ec2",
   "metadata": {},
   "outputs": [
    {
     "name": "stdout",
     "output_type": "stream",
     "text": [
      "Accuracy:  0.7701446280991735 77.01\n",
      "Precision:  0.7671092951991828 76.71\n",
      "Recall/Sensitivity:  0.7758264462809917 77.58\n"
     ]
    }
   ],
   "source": [
    "print(\"Accuracy: \", metrics.accuracy_score(s_y_test_logreg, s_y_pred_logreg), round(metrics.accuracy_score(s_y_test_logreg, s_y_pred_logreg) * 100, 2))\n",
    "print(\"Precision: \", metrics.precision_score(s_y_test_logreg, s_y_pred_logreg), round(metrics.precision_score(s_y_test_logreg, s_y_pred_logreg) * 100, 2))\n",
    "print(\"Recall/Sensitivity: \", metrics.recall_score(s_y_test_logreg, s_y_pred_logreg), round(metrics.recall_score(s_y_test_logreg, s_y_pred_logreg) * 100, 2))"
   ]
  },
  {
   "cell_type": "code",
   "execution_count": 585,
   "id": "509517fd",
   "metadata": {},
   "outputs": [
    {
     "name": "stdout",
     "output_type": "stream",
     "text": [
      "Accuracy:  0.8047520661157025 80.48\n",
      "Precision:  0.9238505747126436 92.39\n",
      "Recall/Sensitivity:  0.6642561983471075 66.43\n"
     ]
    }
   ],
   "source": [
    "print(\"Accuracy: \", metrics.accuracy_score(s_y_test_rf, s_y_pred_rf), round(metrics.accuracy_score(s_y_test_rf, s_y_pred_rf) * 100, 2))\n",
    "print(\"Precision: \", metrics.precision_score(s_y_test_rf, s_y_pred_rf), round(metrics.precision_score(s_y_test_rf, s_y_pred_rf) * 100, 2))\n",
    "print(\"Recall/Sensitivity: \", metrics.recall_score(s_y_test_rf, s_y_pred_rf), round(metrics.recall_score(s_y_test_rf, s_y_pred_rf) * 100, 2))"
   ]
  },
  {
   "cell_type": "code",
   "execution_count": 581,
   "id": "96f3ae11",
   "metadata": {},
   "outputs": [
    {
     "name": "stdout",
     "output_type": "stream",
     "text": [
      "              precision    recall  f1-score   support\n",
      "\n",
      "           0       0.77      0.76      0.77       968\n",
      "           1       0.77      0.78      0.77       968\n",
      "\n",
      "    accuracy                           0.77      1936\n",
      "   macro avg       0.77      0.77      0.77      1936\n",
      "weighted avg       0.77      0.77      0.77      1936\n",
      "\n"
     ]
    }
   ],
   "source": [
    "classification_scores_logreg = metrics.classification_report(s_y_test_logreg, s_y_pred_logreg)\n",
    "\n",
    "print(classification_scores_logreg)"
   ]
  },
  {
   "cell_type": "code",
   "execution_count": 582,
   "id": "6f7a57ea",
   "metadata": {},
   "outputs": [
    {
     "name": "stdout",
     "output_type": "stream",
     "text": [
      "              precision    recall  f1-score   support\n",
      "\n",
      "           0       0.74      0.95      0.83       968\n",
      "           1       0.92      0.66      0.77       968\n",
      "\n",
      "    accuracy                           0.80      1936\n",
      "   macro avg       0.83      0.80      0.80      1936\n",
      "weighted avg       0.83      0.80      0.80      1936\n",
      "\n"
     ]
    }
   ],
   "source": [
    "classification_scores_rf = metrics.classification_report(s_y_test_rf, s_y_pred_rf)\n",
    "\n",
    "print(classification_scores_rf)"
   ]
  },
  {
   "cell_type": "code",
   "execution_count": 461,
   "id": "7ff521ea",
   "metadata": {},
   "outputs": [
    {
     "data": {
      "text/plain": [
       "(array([[2.994e+03, 0.000e+00, 2.115e+03, 0.000e+00, 0.000e+00, 1.000e+00,\n",
       "         0.000e+00, 0.000e+00, 0.000e+00, 0.000e+00],\n",
       "        [1.720e+03, 2.425e+03, 9.650e+02, 0.000e+00, 0.000e+00, 0.000e+00,\n",
       "         0.000e+00, 0.000e+00, 0.000e+00, 0.000e+00],\n",
       "        [4.612e+03, 0.000e+00, 4.980e+02, 0.000e+00, 0.000e+00, 0.000e+00,\n",
       "         0.000e+00, 0.000e+00, 0.000e+00, 0.000e+00],\n",
       "        [4.834e+03, 0.000e+00, 2.760e+02, 0.000e+00, 0.000e+00, 0.000e+00,\n",
       "         0.000e+00, 0.000e+00, 0.000e+00, 0.000e+00],\n",
       "        [1.757e+03, 0.000e+00, 3.353e+03, 0.000e+00, 0.000e+00, 0.000e+00,\n",
       "         0.000e+00, 0.000e+00, 0.000e+00, 0.000e+00],\n",
       "        [6.570e+02, 0.000e+00, 2.200e+01, 0.000e+00, 0.000e+00, 2.925e+03,\n",
       "         0.000e+00, 8.190e+02, 0.000e+00, 6.870e+02],\n",
       "        [2.514e+03, 0.000e+00, 2.596e+03, 0.000e+00, 0.000e+00, 0.000e+00,\n",
       "         0.000e+00, 0.000e+00, 0.000e+00, 0.000e+00],\n",
       "        [4.306e+03, 6.710e+02, 1.330e+02, 0.000e+00, 0.000e+00, 0.000e+00,\n",
       "         0.000e+00, 0.000e+00, 0.000e+00, 0.000e+00],\n",
       "        [1.374e+03, 3.174e+03, 5.620e+02, 0.000e+00, 0.000e+00, 0.000e+00,\n",
       "         0.000e+00, 0.000e+00, 0.000e+00, 0.000e+00],\n",
       "        [1.544e+03, 0.000e+00, 8.850e+02, 0.000e+00, 0.000e+00, 1.892e+03,\n",
       "         0.000e+00, 7.890e+02, 0.000e+00, 0.000e+00],\n",
       "        [4.861e+03, 0.000e+00, 2.490e+02, 0.000e+00, 0.000e+00, 0.000e+00,\n",
       "         0.000e+00, 0.000e+00, 0.000e+00, 0.000e+00]]),\n",
       " array([0. , 0.4, 0.8, 1.2, 1.6, 2. , 2.4, 2.8, 3.2, 3.6, 4. ]),\n",
       " <a list of 11 BarContainer objects>)"
      ]
     },
     "execution_count": 461,
     "metadata": {},
     "output_type": "execute_result"
    },
    {
     "data": {
      "image/png": "[encoded data removed]",
      "text/plain": [
       "<Figure size 432x288 with 1 Axes>"
      ]
     },
     "metadata": {
      "needs_background": "light"
     },
     "output_type": "display_data"
    }
   ],
   "source": [
    "plt.hist(stroke_df)"
   ]
  },
  {
   "cell_type": "markdown",
   "id": "164144cf",
   "metadata": {},
   "source": [
    "<strong style='color:red'>No Gaussian distribution, perform normalization instead of standardization.</strong>"
   ]
  }
 ],
 "metadata": {
  "kernelspec": {
   "display_name": "Python 3",
   "language": "python",
   "name": "python3"
  },
  "language_info": {
   "codemirror_mode": {
    "name": "ipython",
    "version": 3
   },
   "file_extension": ".py",
   "mimetype": "text/x-python",
   "name": "python",
   "nbconvert_exporter": "python",
   "pygments_lexer": "ipython3",
   "version": "3.8.8"
  }
 },
 "nbformat": 4,
 "nbformat_minor": 5
}
